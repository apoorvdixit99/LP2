{
  "nbformat": 4,
  "nbformat_minor": 0,
  "metadata": {
    "colab": {
      "name": "LP2_Assignment4.ipynb",
      "provenance": []
    },
    "kernelspec": {
      "name": "python3",
      "display_name": "Python 3"
    }
  },
  "cells": [
    {
      "cell_type": "markdown",
      "metadata": {
        "id": "dvcAKXExKuwv",
        "colab_type": "text"
      },
      "source": [
        "Twitter Data Analysis\n",
        "\n",
        "---\n",
        "\n",
        "Use Twitter data for sentiment analysis. The dataset is 3MB in size and has 31,962 tweets. Identify the tweets which are hate tweets and which are not."
      ]
    },
    {
      "cell_type": "markdown",
      "metadata": {
        "id": "SVxvIY5JOT5D",
        "colab_type": "text"
      },
      "source": [
        "##Dataset Description"
      ]
    },
    {
      "cell_type": "markdown",
      "metadata": {
        "id": "-RJY5uUIU6mg",
        "colab_type": "text"
      },
      "source": [
        "We have been provided with 31962 tweets and our aim is to predict whether the tweet is a hate tweet or not.\n",
        "\n",
        "The dataset has two features - tweet and label\n",
        "\n",
        "In this problem tweet is our independant variable and label is the dependant variable."
      ]
    },
    {
      "cell_type": "markdown",
      "metadata": {
        "id": "PlFaax9K4iUv",
        "colab_type": "text"
      },
      "source": [
        "##Flowchart"
      ]
    },
    {
      "cell_type": "markdown",
      "metadata": {
        "id": "xZfddg8ds2i6",
        "colab_type": "text"
      },
      "source": [
        "![R3flowchart.png](data:image/png;base64,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)"
      ]
    },
    {
      "cell_type": "markdown",
      "metadata": {
        "id": "6jlIjEaBQbS1",
        "colab_type": "text"
      },
      "source": [
        "##Main Assignment"
      ]
    },
    {
      "cell_type": "markdown",
      "metadata": {
        "id": "cvtVvGuNrj2L",
        "colab_type": "text"
      },
      "source": [
        "###Download dataset using Kaggle CLI"
      ]
    },
    {
      "cell_type": "code",
      "metadata": {
        "id": "_rJ7nTEbQeVq",
        "colab_type": "code",
        "colab": {
          "base_uri": "https://localhost:8080/",
          "height": 255
        },
        "outputId": "c0118107-1706-408f-935d-eba413613422"
      },
      "source": [
        "#Installing Kaggle and Kaggle CLI Python Libraries\n",
        "!pip install -q kaggle\n",
        "!pip install -q kaggle-cli\n",
        "\n",
        "#Use Apoorv's Kaggle Account's API token to download Kaggle Dataset to Colab\n",
        "#We store this API token in \"kaggle.json\"\n",
        "f = open(\"kaggle.json\",\"w+\")\n",
        "f.write('{\"username\":\"apoorvdixit99\",\"key\":\"07ea0b3ad4b87e5e87c0f1dcd3f10e86\"}')\n",
        "f.close()\n",
        "\n",
        "#IOError: Could not find kaggle.json. Make sure it's located in /root/.kaggle\n",
        "#The -p will create the directory (along with the directories that lead to the directory you want to create)\n",
        "!mkdir -p ~/.kaggle\n",
        "!cp kaggle.json ~/.kaggle/\n",
        "\n",
        "#Warning: Your Kaggle API key is readable by other users on this system! To fix this, you can run 'chmod 600 /root/.kaggle/kaggle.json'\n",
        "#Chmod 600 (chmod a+rwx,u-x,g-rwx,o-rwx) sets permissions so that,\n",
        "#(U)ser / owner can read, can write and can't execute.\n",
        "#(G)roup can't read, can't write and can't execute.\n",
        "#(O)thers can't read, can't write and can't execute.\n",
        "!chmod 600 ~/.kaggle/kaggle.json\n",
        "\n",
        "#Download the dataset\n",
        "!kaggle datasets download -d dv1453/twitter-sentiment-analysis-analytics-vidya\n",
        "\n",
        "#Unzip the dataset\n",
        "!unzip \\twitter-sentiment-analysis-analytics-vidya.zip\n",
        "\n",
        "#Remove Unnecessary Files\n",
        "!rm -rf kaggle.json\n",
        "!rm -r sample_data\n",
        "!rm -r twitter-sentiment-analysis-analytics-vidya.zip"
      ],
      "execution_count": null,
      "outputs": [
        {
          "output_type": "stream",
          "text": [
            "\u001b[K     |████████████████████████████████| 81kB 1.7MB/s \n",
            "\u001b[K     |████████████████████████████████| 5.3MB 5.1MB/s \n",
            "\u001b[K     |████████████████████████████████| 51kB 6.7MB/s \n",
            "\u001b[K     |████████████████████████████████| 133kB 49.2MB/s \n",
            "\u001b[K     |████████████████████████████████| 112kB 49.1MB/s \n",
            "\u001b[?25h  Building wheel for kaggle-cli (setup.py) ... \u001b[?25l\u001b[?25hdone\n",
            "  Building wheel for pyperclip (setup.py) ... \u001b[?25l\u001b[?25hdone\n",
            "Downloading twitter-sentiment-analysis-analytics-vidya.zip to /content\n",
            "  0% 0.00/1.93M [00:00<?, ?B/s]\n",
            "100% 1.93M/1.93M [00:00<00:00, 65.0MB/s]\n",
            "Archive:  twitter-sentiment-analysis-analytics-vidya.zip\n",
            "  inflating: sample_submission_gfvA5FD.csv  \n",
            "  inflating: test_tweets_anuFYb8.csv  \n",
            "  inflating: train_E6oV3lV.csv       \n"
          ],
          "name": "stdout"
        }
      ]
    },
    {
      "cell_type": "code",
      "metadata": {
        "id": "hUTjxEMFT19v",
        "colab_type": "code",
        "colab": {
          "base_uri": "https://localhost:8080/",
          "height": 170
        },
        "outputId": "68171a44-a4c0-47fc-94d9-dd5234d4cfec"
      },
      "source": [
        "import pandas as pd\n",
        "import matplotlib.pyplot as plt\n",
        "\n",
        "df = pd.read_csv('train_E6oV3lV.csv')\n",
        "df.drop(columns=['id'], axis=1, inplace=True)\n",
        "df.info()"
      ],
      "execution_count": null,
      "outputs": [
        {
          "output_type": "stream",
          "text": [
            "<class 'pandas.core.frame.DataFrame'>\n",
            "RangeIndex: 31962 entries, 0 to 31961\n",
            "Data columns (total 2 columns):\n",
            " #   Column  Non-Null Count  Dtype \n",
            "---  ------  --------------  ----- \n",
            " 0   label   31962 non-null  int64 \n",
            " 1   tweet   31962 non-null  object\n",
            "dtypes: int64(1), object(1)\n",
            "memory usage: 499.5+ KB\n"
          ],
          "name": "stdout"
        }
      ]
    },
    {
      "cell_type": "code",
      "metadata": {
        "id": "PVi4II6XTv9h",
        "colab_type": "code",
        "colab": {
          "base_uri": "https://localhost:8080/",
          "height": 204
        },
        "outputId": "7e37ac3e-ab12-464b-d9f8-649ea4cb131f"
      },
      "source": [
        "df.head()"
      ],
      "execution_count": null,
      "outputs": [
        {
          "output_type": "execute_result",
          "data": {
            "text/html": [
              "<div>\n",
              "<style scoped>\n",
              "    .dataframe tbody tr th:only-of-type {\n",
              "        vertical-align: middle;\n",
              "    }\n",
              "\n",
              "    .dataframe tbody tr th {\n",
              "        vertical-align: top;\n",
              "    }\n",
              "\n",
              "    .dataframe thead th {\n",
              "        text-align: right;\n",
              "    }\n",
              "</style>\n",
              "<table border=\"1\" class=\"dataframe\">\n",
              "  <thead>\n",
              "    <tr style=\"text-align: right;\">\n",
              "      <th></th>\n",
              "      <th>label</th>\n",
              "      <th>tweet</th>\n",
              "    </tr>\n",
              "  </thead>\n",
              "  <tbody>\n",
              "    <tr>\n",
              "      <th>0</th>\n",
              "      <td>0</td>\n",
              "      <td>@user when a father is dysfunctional and is s...</td>\n",
              "    </tr>\n",
              "    <tr>\n",
              "      <th>1</th>\n",
              "      <td>0</td>\n",
              "      <td>@user @user thanks for #lyft credit i can't us...</td>\n",
              "    </tr>\n",
              "    <tr>\n",
              "      <th>2</th>\n",
              "      <td>0</td>\n",
              "      <td>bihday your majesty</td>\n",
              "    </tr>\n",
              "    <tr>\n",
              "      <th>3</th>\n",
              "      <td>0</td>\n",
              "      <td>#model   i love u take with u all the time in ...</td>\n",
              "    </tr>\n",
              "    <tr>\n",
              "      <th>4</th>\n",
              "      <td>0</td>\n",
              "      <td>factsguide: society now    #motivation</td>\n",
              "    </tr>\n",
              "  </tbody>\n",
              "</table>\n",
              "</div>"
            ],
            "text/plain": [
              "   label                                              tweet\n",
              "0      0   @user when a father is dysfunctional and is s...\n",
              "1      0  @user @user thanks for #lyft credit i can't us...\n",
              "2      0                                bihday your majesty\n",
              "3      0  #model   i love u take with u all the time in ...\n",
              "4      0             factsguide: society now    #motivation"
            ]
          },
          "metadata": {
            "tags": []
          },
          "execution_count": 4
        }
      ]
    },
    {
      "cell_type": "code",
      "metadata": {
        "id": "_0szGx_UoP9w",
        "colab_type": "code",
        "colab": {}
      },
      "source": [
        "import nltk\n",
        "from nltk.stem import PorterStemmer\n",
        "import re\n",
        "stemmer = PorterStemmer()\n",
        "\n",
        "def clean_sentences(text):\n",
        "\n",
        "    text = text.lower() #convert to lower case\n",
        "    \n",
        "    text = re.sub(r\"[^a-z0-9^,!.\\/']\", \" \", text) #remove special characters\n",
        "    text = \" \".join(text.split())\n",
        "    \n",
        "    text = \" \".join(stemmer.stem(word) for word in text.split()) #Stem each word in tweet\n",
        "    \n",
        "    return text\n",
        "\n",
        "x = df['tweet']\n",
        "y = df['label']\n",
        "\n",
        "x = x.map(lambda a: clean_sentences(a))"
      ],
      "execution_count": null,
      "outputs": []
    },
    {
      "cell_type": "code",
      "metadata": {
        "id": "Wz8tIBKFovHV",
        "colab_type": "code",
        "colab": {}
      },
      "source": [
        "from sklearn.model_selection import train_test_split\n",
        "x_train, x_test, y_train, y_test = train_test_split(x,y,stratify=y)"
      ],
      "execution_count": null,
      "outputs": []
    },
    {
      "cell_type": "code",
      "metadata": {
        "id": "2BnH1LGAoz2U",
        "colab_type": "code",
        "colab": {}
      },
      "source": [
        "from sklearn.feature_extraction.text import TfidfVectorizer\n",
        "vectorizer = TfidfVectorizer(stop_words='english') #Stop Words = {this, is, the, a, an ...}\n",
        "x_train = vectorizer.fit_transform(x_train)\n",
        "x_test = vectorizer.transform(x_test)"
      ],
      "execution_count": null,
      "outputs": []
    },
    {
      "cell_type": "code",
      "metadata": {
        "id": "wAkXpK1qo6_F",
        "colab_type": "code",
        "colab": {
          "base_uri": "https://localhost:8080/",
          "height": 85
        },
        "outputId": "936c8a67-1ba8-4ef1-953a-0a915dae237c"
      },
      "source": [
        "from sklearn.svm import LinearSVC\n",
        "model = LinearSVC()\n",
        "model.fit(x_train,y_train)"
      ],
      "execution_count": null,
      "outputs": [
        {
          "output_type": "execute_result",
          "data": {
            "text/plain": [
              "LinearSVC(C=1.0, class_weight=None, dual=True, fit_intercept=True,\n",
              "          intercept_scaling=1, loss='squared_hinge', max_iter=1000,\n",
              "          multi_class='ovr', penalty='l2', random_state=None, tol=0.0001,\n",
              "          verbose=0)"
            ]
          },
          "metadata": {
            "tags": []
          },
          "execution_count": 8
        }
      ]
    },
    {
      "cell_type": "code",
      "metadata": {
        "id": "U83nRkOnpHA-",
        "colab_type": "code",
        "colab": {
          "base_uri": "https://localhost:8080/",
          "height": 51
        },
        "outputId": "8615f3af-99aa-4eb5-f900-e110887550dc"
      },
      "source": [
        "from sklearn.metrics import confusion_matrix, accuracy_score, precision_score, f1_score, recall_score\n",
        "confusion_matrix(y_test,model.predict(x_test))"
      ],
      "execution_count": null,
      "outputs": [
        {
          "output_type": "execute_result",
          "data": {
            "text/plain": [
              "array([[7370,   60],\n",
              "       [ 225,  336]])"
            ]
          },
          "metadata": {
            "tags": []
          },
          "execution_count": 9
        }
      ]
    },
    {
      "cell_type": "code",
      "metadata": {
        "id": "-0RmyMiGpBA1",
        "colab_type": "code",
        "colab": {
          "base_uri": "https://localhost:8080/",
          "height": 34
        },
        "outputId": "f2aa297f-5057-4f70-ef44-ceffa2436de4"
      },
      "source": [
        "accuracy_score(y_test,model.predict(x_test))"
      ],
      "execution_count": null,
      "outputs": [
        {
          "output_type": "execute_result",
          "data": {
            "text/plain": [
              "0.9643348767363283"
            ]
          },
          "metadata": {
            "tags": []
          },
          "execution_count": 10
        }
      ]
    },
    {
      "cell_type": "code",
      "metadata": {
        "id": "Wod1pWYgpP6P",
        "colab_type": "code",
        "colab": {
          "base_uri": "https://localhost:8080/",
          "height": 34
        },
        "outputId": "e5ca9d30-1b6c-4ba7-9607-1580b359f20f"
      },
      "source": [
        "recall_score(y_test,model.predict(x_test))"
      ],
      "execution_count": null,
      "outputs": [
        {
          "output_type": "execute_result",
          "data": {
            "text/plain": [
              "0.5989304812834224"
            ]
          },
          "metadata": {
            "tags": []
          },
          "execution_count": 11
        }
      ]
    },
    {
      "cell_type": "code",
      "metadata": {
        "id": "PP3wSZ1npSJV",
        "colab_type": "code",
        "colab": {
          "base_uri": "https://localhost:8080/",
          "height": 34
        },
        "outputId": "71a8c968-d648-4257-ff0e-45ab89a73b4a"
      },
      "source": [
        "precision_score(y_test,model.predict(x_test))\n"
      ],
      "execution_count": null,
      "outputs": [
        {
          "output_type": "execute_result",
          "data": {
            "text/plain": [
              "0.8484848484848485"
            ]
          },
          "metadata": {
            "tags": []
          },
          "execution_count": 12
        }
      ]
    },
    {
      "cell_type": "code",
      "metadata": {
        "id": "yx5TdOyepUEu",
        "colab_type": "code",
        "colab": {
          "base_uri": "https://localhost:8080/",
          "height": 34
        },
        "outputId": "ffc44ec8-47aa-419e-9f9f-d88933e2ff99"
      },
      "source": [
        "f1_score(y_test,model.predict(x_test))\n"
      ],
      "execution_count": null,
      "outputs": [
        {
          "output_type": "execute_result",
          "data": {
            "text/plain": [
              "0.7021943573667712"
            ]
          },
          "metadata": {
            "tags": []
          },
          "execution_count": 13
        }
      ]
    }
  ]
}